{
 "cells": [
  {
   "cell_type": "code",
   "execution_count": 1,
   "id": "64750f0e",
   "metadata": {},
   "outputs": [],
   "source": [
    "from flask import Flask, render_template, request\n",
    "import jsonify\n",
    "import requests\n",
    "import pickle\n",
    "import numpy as np\n",
    "import sklearn\n",
    "from sklearn.preprocessing import StandardScaler\n",
    "\n",
    "\n",
    "\n",
    "app = Flask(__name__)\n",
    "model = pickle.load(open('random_forest_regression_model.pkl', 'rb'))\n",
    "@app.route('/',methods=['GET'])\n",
    "def Home():\n",
    "    return render_template('index.html')"
   ]
  },
  {
   "cell_type": "code",
   "execution_count": 2,
   "id": "40c996df",
   "metadata": {},
   "outputs": [],
   "source": [
    "standard_to = StandardScaler()\n",
    "@app.route(\"/predict\", methods=['POST'])\n",
    "def predict():\n",
    "    Fuel_Type_Diesel=0\n",
    "    if request.method == 'POST':\n",
    "        Year = int(request.form['Year'])\n",
    "        Present_Price=float(request.form['Present_Price'])\n",
    "        Kms_Driven=int(request.form['Kms_Driven'])\n",
    "        Kms_Driven2=np.log(Kms_Driven)\n",
    "        Owner=int(request.form['Owner'])\n",
    "        Fuel_Type_Petrol=request.form['Fuel_Type_Petrol']\n",
    "        if(Fuel_Type_Petrol=='Petrol'):\n",
    "                Fuel_Type_Petrol=1\n",
    "                Fuel_Type_Diesel=0\n",
    "        if(Fuel_Type_Petrol=='Diesel'):\n",
    "                Fuel_Type_Petrol=0\n",
    "                Fuel_Type_Diesel=1\n",
    "        else:\n",
    "            Fuel_Type_Petrol=0\n",
    "            Fuel_Type_Diesel=0\n",
    "        Year=2020-Year\n",
    "        Seller_Type_Individual=request.form['Seller_Type_Individual']\n",
    "        if(Seller_Type_Individual=='Individual'):\n",
    "            Seller_Type_Individual=1\n",
    "        else:\n",
    "            Seller_Type_Individual=0\t\n",
    "        Transmission_Mannual=request.form['Transmission_Mannual']\n",
    "        if(Transmission_Mannual=='Mannual'):\n",
    "            Transmission_Mannual=1\n",
    "        else:\n",
    "            Transmission_Mannual=0\n",
    "        prediction=model.predict([[Present_Price,Kms_Driven2,Owner,Year,Fuel_Type_Diesel,Fuel_Type_Petrol,Seller_Type_Individual,Transmission_Mannual]])\n",
    "        output=round(prediction[0],2)\n",
    "        if output<0:\n",
    "            return render_template('index.html',prediction_texts=\"Sorry you cannot sell this car\")\n",
    "        else:\n",
    "            return render_template('index.html',prediction_text=\"You Can Sell The Car at {}\".format(output))\n",
    "    else:\n",
    "        return render_template('index.html')"
   ]
  },
  {
   "cell_type": "code",
   "execution_count": null,
   "id": "21aaaf69",
   "metadata": {},
   "outputs": [
    {
     "name": "stdout",
     "output_type": "stream",
     "text": [
      " * Serving Flask app '__main__'\n",
      " * Debug mode: off\n"
     ]
    },
    {
     "name": "stderr",
     "output_type": "stream",
     "text": [
      "WARNING: This is a development server. Do not use it in a production deployment. Use a production WSGI server instead.\n",
      " * Running on http://127.0.0.1:5000\n",
      "Press CTRL+C to quit\n",
      "127.0.0.1 - - [20/Mar/2023 10:44:18] \"GET / HTTP/1.1\" 200 -\n",
      "127.0.0.1 - - [20/Mar/2023 10:44:18] \"GET /favicon.ico HTTP/1.1\" 404 -\n"
     ]
    }
   ],
   "source": [
    "if __name__==\"__main__\":\n",
    "    app.run(debug=False)"
   ]
  }
 ],
 "metadata": {
  "kernelspec": {
   "display_name": "Python 3 (ipykernel)",
   "language": "python",
   "name": "python3"
  },
  "language_info": {
   "codemirror_mode": {
    "name": "ipython",
    "version": 3
   },
   "file_extension": ".py",
   "mimetype": "text/x-python",
   "name": "python",
   "nbconvert_exporter": "python",
   "pygments_lexer": "ipython3",
   "version": "3.9.0"
  }
 },
 "nbformat": 4,
 "nbformat_minor": 5
}
